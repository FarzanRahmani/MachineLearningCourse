{
 "cells": [
  {
   "cell_type": "code",
   "execution_count": 1,
   "id": "8ab34732",
   "metadata": {},
   "outputs": [],
   "source": [
    "import numpy as np\n",
    "import pandas as pd\n",
    "from sklearn.compose import ColumnTransformer\n",
    "from sklearn.preprocessing import OneHotEncoder, StandardScaler\n",
    "from sklearn.ensemble import RandomForestClassifier\n",
    "from sklearn.model_selection import train_test_split"
   ]
  },
  {
   "cell_type": "code",
   "execution_count": 2,
   "id": "a55e5efd",
   "metadata": {},
   "outputs": [],
   "source": [
    "train_df = pd.read_csv('train_dataset.csv')\n",
    "test_df = pd.read_csv('test_dataset.csv')"
   ]
  },
  {
   "cell_type": "code",
   "execution_count": 3,
   "id": "aaeef56e",
   "metadata": {},
   "outputs": [],
   "source": [
    "# Read/Load the dataset files\n",
    "# TODO\n",
    "from google.colab import files\n",
    "uploaded1 = files.upload()\n",
    "uploaded2 = files.upload()"
   ]
  },
  {
   "cell_type": "code",
   "execution_count": 4,
   "id": "c8a93e13",
   "metadata": {},
   "outputs": [],
   "source": [
    "train_df = pd.read_csv('train_dataset.csv')\n",
    "test_df = pd.read_csv('test_dataset.csv')"
   ]
  },
  {
   "cell_type": "code",
   "execution_count": 5,
   "id": "65782ab2",
   "metadata": {},
   "outputs": [],
   "source": [
    "# Preprocess the dataset\n",
    "# TODO\n",
    "\n",
    "from sklearn.preprocessing import OneHotEncoder\n",
    "from sklearn.compose import ColumnTransformer\n",
    "from sklearn.model_selection import train_test_split\n",
    "\n",
    "chosen_features = ['Kingdom', 'Phylum', 'Attributes', 'Distribution', 'Habits', 'Population']\n",
    "\n",
    "X = train_df[chosen_features]\n",
    "y = train_df['Class']\n",
    "X_test = test_df[chosen_features]\n",
    "\n",
    "categorical_cols = chosen_features\n",
    "\n",
    "preprocessor = ColumnTransformer(\n",
    "    transformers=[\n",
    "        ('cat', OneHotEncoder(handle_unknown='ignore', drop='first'), categorical_cols)\n",
    "    ]\n",
    ")\n",
    "\n",
    "X = preprocessor.fit_transform(X)\n",
    "X_test = preprocessor.transform(X_test)\n",
    "\n",
    "# X_train, X_validation, y_train, y_validation = train_test_split(X, y, test_size=0.2, random_state=42)"
   ]
  },
  {
   "cell_type": "code",
   "execution_count": 6,
   "id": "f423430a",
   "metadata": {},
   "outputs": [],
   "source": [
    "from xgboost import XGBClassifier\n",
    "from sklearn.preprocessing import OneHotEncoder, LabelEncoder\n",
    "\n",
    "label_encoder = LabelEncoder()\n",
    "y_encoded = label_encoder.fit_transform(y)\n",
    "\n",
    "xgb = XGBClassifier(\n",
    "    n_estimators=100,\n",
    "    learning_rate=0.1,\n",
    "    max_depth=3,\n",
    "    subsample=0.8,\n",
    "    colsample_bytree=0.8,\n",
    "    random_state=42\n",
    ")\n",
    "\n",
    "xgb.fit(X, y_encoded)\n",
    "\n",
    "y_pred = xgb.predict(X_test)\n",
    "y_pred_decoded = label_encoder.inverse_transform(y_pred)"
   ]
  },
  {
   "cell_type": "code",
   "execution_count": 7,
   "id": "6411b5bb",
   "metadata": {},
   "outputs": [],
   "source": [
    "# Predict and save the predictions\n",
    "# TODO\n",
    "y_pred_test = model.predict(X_test)\n",
    "\n",
    "submission = pd.DataFrame(y_pred_test, columns=['Class'])\n",
    "\n",
    "print(submission.head())"
   ]
  },
  {
   "cell_type": "code",
   "execution_count": 8,
   "id": "7e11197a",
   "metadata": {},
   "outputs": [],
   "source": [
    "# Predict and save the predictions\n",
    "# TODO\n",
    "# y_pred_test = model.predict(X_test)\n",
    "\n",
    "submission = pd.DataFrame(y_pred_decoded, columns=['Class'])\n",
    "\n",
    "print(submission.head())"
   ]
  }
 ],
 "metadata": {},
 "nbformat": 4,
 "nbformat_minor": 5
}
