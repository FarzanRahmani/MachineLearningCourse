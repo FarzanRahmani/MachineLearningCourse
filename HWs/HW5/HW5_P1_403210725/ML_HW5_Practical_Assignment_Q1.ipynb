{
  "cells": [
    {
      "cell_type": "markdown",
      "source": [
        "<br>\n",
        "<font>\n",
        "<div dir=ltr align=center>\n",
        "<img src=\"https://cdn.freebiesupply.com/logos/large/2x/sharif-logo-png-transparent.png\" width=150 height=150> <br>\n",
        "<font color=0F5298 size=7>\n",
        "    Machine learning <br>\n",
        "<font color=2565AE size=5>\n",
        "    Computer Engineering Department <br>\n",
        "    Fall 2024<br>\n",
        "<font color=3C99D size=5>\n",
        "    Practical Assignment 5 - NLP - Skip-Gram <br>\n",
        "<font color=0CBCDF size=4>\n",
        "   &#x1F335; Amirhossein Akbari  &#x1F335;\n",
        "</div>\n",
        "\n",
        "____"
      ],
      "metadata": {
        "id": "0QOmoitc9qC4"
      }
    },
    {
      "cell_type": "markdown",
      "source": [
        "<font color=9999FF size=4>\n",
        "&#x1F388; Full Name : Farzan Rahmani\n",
        "<br>\n",
        "<font color=9999FF size=4>\n",
        "&#x1F388; Student Number : 403210725"
      ],
      "metadata": {
        "id": "35Y0nSE3-wuW"
      }
    },
    {
      "cell_type": "markdown",
      "source": [
        "<font color=0080FF size=3>\n",
        "This notebook explores word embeddings, compact and dense vector representations of words that capture their textual meaning. This notebook focusing on implementing the Word2Vec algorithm using the Skip-gram architecture and negative sampling.\n",
        "</font>\n",
        "<br>\n",
        "\n",
        "**Note:**\n",
        "<br>\n",
        "<font color=66B2FF size=2>In this notebook, you are free to use any function or model from TensorFlow to assist with the implementation. However, PyTorch is not permitted for this exercise. This ensures consistency and alignment with the tools being focused on.</font>\n",
        "<br>\n",
        "<font color=red size=3>**Run All Cells Before Submission**</font>: <font color=FF99CC size=2>Before saving and submitting your notebook, please ensure you run all cells from start to finish. This practice guarantees that your notebook is self-consistent and can be evaluated correctly by others.</font>"
      ],
      "metadata": {
        "id": "i4spZpsq_Pxf"
      }
    },
    {
      "cell_type": "markdown",
      "source": [
        "<font color=#ffb578 size=3>\n",
        "you are free to modify, add, or remove any cells as you see fit to complete your tasks. Feel free to change any of the provided code or content to better suit your understanding and approach to the problems.\n",
        "\n",
        "- **Questions**: If you have any questions or require clarifications as you work through the notebook, please do not hesitate to ask. You can post your queries on Quera or reach out via Telegram.\n",
        "- **Feedback**: We encourage you to seek feedback and engage in discussions to enhance your learning experience and improve your solutions.\n",
        "</font>"
      ],
      "metadata": {
        "id": "hZCaUs-3FsJk"
      }
    },
    {
      "cell_type": "code",
      "execution_count": 1,
      "metadata": {
        "execution": {
          "iopub.execute_input": "2020-10-10T13:12:41.263643Z",
          "iopub.status.busy": "2020-10-10T13:12:41.262979Z",
          "iopub.status.idle": "2020-10-10T13:12:49.471771Z",
          "shell.execute_reply": "2020-10-10T13:12:49.471205Z"
        },
        "id": "hoV5vSSSbIp0",
        "outputId": "8b0908ab-5415-4572-bfdd-54318ec04d26",
        "papermill": {
          "duration": 8.238801,
          "end_time": "2020-10-10T13:12:49.471884",
          "exception": false,
          "start_time": "2020-10-10T13:12:41.233083",
          "status": "completed"
        },
        "tags": [],
        "colab": {
          "base_uri": "https://localhost:8080/"
        }
      },
      "outputs": [
        {
          "output_type": "stream",
          "name": "stderr",
          "text": [
            "[nltk_data] Downloading package stopwords to /root/nltk_data...\n",
            "[nltk_data]   Package stopwords is already up-to-date!\n"
          ]
        }
      ],
      "source": [
        "import io\n",
        "import math\n",
        "import gzip\n",
        "import nltk\n",
        "import time\n",
        "import random\n",
        "import numpy as np\n",
        "import tensorflow as tf\n",
        "import gensim.downloader as api\n",
        "import tensorflow_datasets as tfds\n",
        "nltk.download('stopwords')\n",
        "\n",
        "from collections import Counter\n",
        "from nltk.corpus import stopwords\n",
        "from tensorflow.keras.preprocessing.text import Tokenizer\n",
        "from tensorflow.keras.preprocessing.sequence import skipgrams"
      ]
    },
    {
      "cell_type": "markdown",
      "metadata": {
        "id": "3pwuegqx-JWf",
        "papermill": {
          "duration": 0.023154,
          "end_time": "2020-10-10T13:12:49.521385",
          "exception": false,
          "start_time": "2020-10-10T13:12:49.498231",
          "status": "completed"
        },
        "tags": []
      },
      "source": [
        "### Downloading Dataset\n",
        "We're going to use text8 dataset. Text8 is first 100,000,000 bytes of plain text from Wikipedia. It's mainly used for testing purposes."
      ]
    },
    {
      "cell_type": "code",
      "execution_count": 2,
      "metadata": {
        "execution": {
          "iopub.execute_input": "2020-10-10T13:12:49.580623Z",
          "iopub.status.busy": "2020-10-10T13:12:49.579765Z",
          "iopub.status.idle": "2020-10-10T13:13:03.778660Z",
          "shell.execute_reply": "2020-10-10T13:13:03.779347Z"
        },
        "id": "XG-FjuVEFLGW",
        "papermill": {
          "duration": 14.234694,
          "end_time": "2020-10-10T13:13:03.779495",
          "exception": false,
          "start_time": "2020-10-10T13:12:49.544801",
          "status": "completed"
        },
        "tags": []
      },
      "outputs": [],
      "source": [
        "def load_data():\n",
        "  text8_zip_file_path = api.load('text8', return_path=True)\n",
        "  with gzip.open(text8_zip_file_path, 'rb') as file:\n",
        "    file_content = file.read()\n",
        "  wiki = file_content.decode()\n",
        "  return wiki\n",
        "\n",
        "wiki = load_data()"
      ]
    },
    {
      "cell_type": "markdown",
      "metadata": {
        "id": "QYBT_-Vy_af4",
        "papermill": {
          "duration": 1.449897,
          "end_time": "2020-10-10T13:13:06.611079",
          "exception": false,
          "start_time": "2020-10-10T13:13:05.161182",
          "status": "completed"
        },
        "tags": []
      },
      "source": [
        "### Preprocessing data\n",
        "\n",
        "**Stopwords removal** - Begin by removing stopwords from the dataset, as they provide little to no value in learning word embeddings. Ensure your preprocessing pipeline filters out commonly used words such as \"the,\" \"and,\" or \"of\" that do not contribute to meaningful semantic relationships.\n",
        "\n",
        "---\n",
        "\n",
        "**Subsampling words** - In a large corpora, most frequent words can easily occur hundreds of millions of times and such words usually don't bring much information to the table.  It is of essential importance to cut down on their frequencies to mitigate the negative impact it adds. For example, co-occurrences of \"English\" and \"Spanish\" benefit much more than co-occurrences of \"English\" and \"the\" or \"Spanish\" and \"of\". To counter the imbalance between rare and frequent words Mikolov et. al came up with the following heuristic formula for determining probability to drop a particular word:\n",
        "\n",
        "$ P(w_i) = 1 - \\sqrt{\\frac{t}{f(w_i)}} $\n",
        "\n",
        "where t is threshold value (heuristically set to 1e-5) and f(w) is frequency of the word.\n",
        "\n",
        "Implement a subsampling mechanism to handle overly frequent words in the corpus. Use the heuristic formula provided by Mikolov et al. to calculate the probability of dropping a word based on its frequency. This step ensures the corpus maintains a balance between rare and frequent words, improving the quality of word co-occurrence relationships.\n",
        "\n",
        "---\n",
        "\n",
        "**Filtering words** - Filter out words that occur only once in the dataset, as they lack sufficient context to be represented effectively. Retain only those words that appear at least five times in the corpus to minimize noise and enhance the overall quality of the embeddings.\n"
      ]
    },
    {
      "cell_type": "code",
      "execution_count": 5,
      "metadata": {
        "execution": {
          "iopub.execute_input": "2020-10-10T13:13:09.551725Z",
          "iopub.status.busy": "2020-10-10T13:13:09.441732Z",
          "iopub.status.idle": "2020-10-10T13:13:11.452524Z",
          "shell.execute_reply": "2020-10-10T13:13:11.451989Z"
        },
        "id": "wp50T2OqA-7L",
        "papermill": {
          "duration": 3.4315,
          "end_time": "2020-10-10T13:13:11.452631",
          "exception": false,
          "start_time": "2020-10-10T13:13:08.021131",
          "status": "completed"
        },
        "tags": []
      },
      "outputs": [],
      "source": [
        "def preprocess_text(text):\n",
        "    # Step 1: Replace punctuation with tokens to standardize the text for processing\n",
        "    # Example: Replace '.', ',', and other punctuation marks with specific tokens\n",
        "    text = text.replace('.', ' <PERIOD> ')\n",
        "    text = text.replace(',', ' <COMMA> ')\n",
        "    text = text.replace('\"', ' <QUOTATION_MARK> ')\n",
        "    text = text.replace(';', ' <SEMICOLON> ')\n",
        "    text = text.replace(':', ' <COLON> ')\n",
        "    text = text.replace('?', ' <QUESTION_MARK> ')\n",
        "    text = text.replace('!', ' <EXCLAMATION_MARK> ')\n",
        "    text = text.replace('(', ' <LEFT_PAREN> ')\n",
        "    text = text.replace(')', ' <RIGHT_PAREN> ')\n",
        "    text = text.replace('--', ' <HYPHENS> ')\n",
        "\n",
        "    # Step 2: Convert text to lowercase and remove unnecessary whitespaces\n",
        "    # Example: Apply text.lower() and text.strip()\n",
        "    text = text.lower()\n",
        "    text = text.strip()\n",
        "\n",
        "    # Step 3: Remove stopwords from the text\n",
        "    # Example: Filter out common words such as 'the', 'and', 'of' using a predefined stopwords list\n",
        "    stop_words = set(stopwords.words('english'))\n",
        "    words = text.split()\n",
        "    words = [word for word in words if word not in stop_words]\n",
        "\n",
        "    # Step 4: Remove words with frequency less than 5\n",
        "    # Example: Count word frequencies and filter words appearing fewer than 5 times\n",
        "    word_counts = Counter(words)\n",
        "    words = [word for word in words if word_counts[word] >= 5]\n",
        "\n",
        "    # Step 5: Subsample words using a threshold value (e.g., 1e-5)\n",
        "    # Example: Implement the subsampling heuristic to reduce the frequency of overly common words\n",
        "    t = 1e-5\n",
        "    word_counts = Counter(words)\n",
        "    total_words = len(words)\n",
        "    freqs = {word: count / total_words for word, count in word_counts.items()}\n",
        "    p_drop = {word: 1 - np.sqrt(t / freqs[word]) for word in word_counts}\n",
        "    words = [word for word in words if random.random() < (1 - p_drop[word])]\n",
        "\n",
        "    # Return the processed words and word counts\n",
        "    return words, word_counts\n",
        "\n",
        "processed_words, word_counts = preprocess_text(wiki)"
      ]
    },
    {
      "cell_type": "markdown",
      "metadata": {
        "id": "4260B2ZFJ_EA",
        "papermill": {
          "duration": 1.777391,
          "end_time": "2020-10-10T13:13:14.603396",
          "exception": false,
          "start_time": "2020-10-10T13:13:12.826005",
          "status": "completed"
        },
        "tags": []
      },
      "source": [
        "It's always a good idea to take a quick look at preprocessed sample before heading further - you might observe few things that if handled can enrich or correct your data. More like a validation step this."
      ]
    },
    {
      "cell_type": "code",
      "source": [
        "len(processed_words)"
      ],
      "metadata": {
        "colab": {
          "base_uri": "https://localhost:8080/"
        },
        "id": "xa-FviIf5lww",
        "outputId": "2448d515-1985-473b-bdae-da1f7ad90c67"
      },
      "execution_count": 6,
      "outputs": [
        {
          "output_type": "execute_result",
          "data": {
            "text/plain": [
              "3813027"
            ]
          },
          "metadata": {},
          "execution_count": 6
        }
      ]
    },
    {
      "cell_type": "code",
      "source": [
        "word_counts.most_common(10)"
      ],
      "metadata": {
        "colab": {
          "base_uri": "https://localhost:8080/"
        },
        "id": "Ta8mSRIh5oKh",
        "outputId": "5f9beee9-b093-4a6d-a17f-788a8480005f"
      },
      "execution_count": 7,
      "outputs": [
        {
          "output_type": "execute_result",
          "data": {
            "text/plain": [
              "[('one', 411764),\n",
              " ('zero', 264975),\n",
              " ('nine', 250430),\n",
              " ('two', 192644),\n",
              " ('eight', 125285),\n",
              " ('five', 115789),\n",
              " ('three', 114775),\n",
              " ('four', 108182),\n",
              " ('six', 102145),\n",
              " ('seven', 99683)]"
            ]
          },
          "metadata": {},
          "execution_count": 7
        }
      ]
    },
    {
      "cell_type": "code",
      "execution_count": 8,
      "metadata": {
        "execution": {
          "iopub.execute_input": "2020-10-10T13:13:17.665608Z",
          "iopub.status.busy": "2020-10-10T13:13:17.664211Z",
          "iopub.status.idle": "2020-10-10T13:13:17.667915Z",
          "shell.execute_reply": "2020-10-10T13:13:17.668396Z"
        },
        "id": "_oNvdt-v1dw0",
        "papermill": {
          "duration": 1.689149,
          "end_time": "2020-10-10T13:13:17.668521",
          "exception": false,
          "start_time": "2020-10-10T13:13:15.979372",
          "status": "completed"
        },
        "tags": [],
        "colab": {
          "base_uri": "https://localhost:8080/"
        },
        "outputId": "018d06e3-6c2a-494a-efd9-7e5ecb87fd1e"
      },
      "outputs": [
        {
          "output_type": "stream",
          "name": "stdout",
          "text": [
            "['zeno', 'repudiated', 'omnipotence', 'regimentation', 'proclaimed', 'moral', 'anabaptists', 'forerunners', 'anarchism', 'bertrand', 'writes', 'anabaptists', 'repudiated', 'law', 'man', 'guided', 'spirit', 'premise', 'arrive', 'communism', 'diggers', 'levellers', 'early', 'communistic', 'war', 'considered', 'forerunners', 'modern', 'era', 'mean', 'armand', 'nouveaux', 'voyages', 'dans', 'rique', 'prisons', 'priests', 'anarchy', 'libertarian', 'movement', 'repeatedly', 'anarchist', 'ancestors', 'revolution', 'william', 'godwin', 'enquiry', 'political', 'godwin', 'use']\n"
          ]
        }
      ],
      "source": [
        "# Take a quick look at a slice of preprocessed words (e.g., index 1500 to 1550)\n",
        "# print(processed_words[1500:1550])\n",
        "print(processed_words[85:85+50])"
      ]
    },
    {
      "cell_type": "markdown",
      "metadata": {
        "id": "lCkFtaa_KrTb",
        "papermill": {
          "duration": 1.426874,
          "end_time": "2020-10-10T13:13:20.673211",
          "exception": false,
          "start_time": "2020-10-10T13:13:19.246337",
          "status": "completed"
        },
        "tags": []
      },
      "source": [
        "### Hyperparameters\n",
        "Setting a few hyperparamters required for generating batches and for deciding the size of word embeddings.\n",
        "\n"
      ]
    },
    {
      "cell_type": "code",
      "execution_count": 9,
      "metadata": {
        "execution": {
          "iopub.execute_input": "2020-10-10T13:13:23.483005Z",
          "iopub.status.busy": "2020-10-10T13:13:23.482371Z",
          "iopub.status.idle": "2020-10-10T13:13:23.486821Z",
          "shell.execute_reply": "2020-10-10T13:13:23.486338Z"
        },
        "id": "mJLzBkSIKoMx",
        "papermill": {
          "duration": 1.447402,
          "end_time": "2020-10-10T13:13:23.486929",
          "exception": false,
          "start_time": "2020-10-10T13:13:22.039527",
          "status": "completed"
        },
        "tags": []
      },
      "outputs": [],
      "source": [
        "EMBEDDING_DIM = 128\n",
        "BUFFER_SIZE = 10000\n",
        "BATCH_SIZE = 1024\n",
        "EPOCHS = 5"
      ]
    },
    {
      "cell_type": "markdown",
      "metadata": {
        "id": "0oO7N0ZsLofI",
        "papermill": {
          "duration": 1.481198,
          "end_time": "2020-10-10T13:13:26.663213",
          "exception": false,
          "start_time": "2020-10-10T13:13:25.182015",
          "status": "completed"
        },
        "tags": []
      },
      "source": [
        "### Preparing TensorFlow Dataset using Skipgrams\n",
        "\n",
        "**Generating Skipgrams**\n",
        "\n",
        "Tokenize your preprocessed textual data and convert the words into their corresponding vectorized tokens. Then, use the `skipgrams` function provided by Keras to generate (word, context) pairs. Ensure the following steps are completed:\n",
        "\n",
        "- Generate positive samples: (word, word in the same window), with label 1.  \n",
        "- Generate negative samples: (word, random word from the vocabulary), with label 0.  \n",
        "\n",
        "Refer to Mikolov et al.'s paper, [Efficient Estimation of Word Representations in Vector Space](https://arxiv.org/pdf/1301.3781v3.pdf), for more details on Skipgrams.\n",
        "\n",
        "---\n",
        "\n",
        "**Negative Sampling**\n",
        "\n",
        "For each input word, implement the negative sampling approach to optimize the training process. Transform the problem of predicting context words into independent binary classification tasks. For every (target, context) pair, generate random negative (target, ~context) samples. This step will reduce computational complexity and make training more efficient.\n"
      ]
    },
    {
      "cell_type": "code",
      "execution_count": 10,
      "metadata": {
        "execution": {
          "iopub.execute_input": "2020-10-10T13:13:29.493673Z",
          "iopub.status.busy": "2020-10-10T13:13:29.483476Z",
          "iopub.status.idle": "2020-10-10T13:14:02.707005Z",
          "shell.execute_reply": "2020-10-10T13:14:02.705890Z"
        },
        "id": "Uq4-jfYOjonO",
        "papermill": {
          "duration": 34.646886,
          "end_time": "2020-10-10T13:14:02.707124",
          "exception": false,
          "start_time": "2020-10-10T13:13:28.060238",
          "status": "completed"
        },
        "tags": []
      },
      "outputs": [],
      "source": [
        "# Step 1: Initialize and fit the tokenizer on preprocessed words\n",
        "# Tokenize the preprocessed words and create a vocabulary index\n",
        "tokenizer = Tokenizer()\n",
        "tokenizer.fit_on_texts([processed_words])\n",
        "\n",
        "# Step 2: Vectorize the words using the tokenizer's word index\n",
        "# Convert the preprocessed words into vectorized tokens\n",
        "word_sequences = tokenizer.texts_to_sequences([processed_words])[0]\n",
        "\n",
        "# Step 3: Generate skipgram pairs and labels\n",
        "# Use the skipgrams function to create (word, context) pairs with their labels\n",
        "vocab_size = len(tokenizer.word_index) + 1\n",
        "window_size = 2\n",
        "negative_samples = 1\n",
        "pairs, labels = skipgrams(word_sequences, vocab_size, window_size=window_size, negative_samples=negative_samples)\n",
        "\n",
        "# Step 4: Extract target and context words from the generated pairs\n",
        "# Separate the target words and context words for training\n",
        "target_words, context_words = zip(*pairs)\n",
        "target_words = np.array(target_words, dtype=\"int64\")\n",
        "context_words = np.array(context_words, dtype=\"int64\")\n",
        "labels = np.array(labels, dtype=\"int64\")\n",
        "\n",
        "# Step 5: Split the data into training and testing sets\n",
        "# Define a sample size and divide the data into training and testing subsets\n",
        "sample_size = len(pairs)\n",
        "train_size = int(0.9 * sample_size)\n",
        "train_data = (target_words[:train_size], context_words[:train_size], labels[:train_size])\n",
        "test_data = (target_words[train_size:], context_words[train_size:], labels[train_size:])\n",
        "\n",
        "# Step 6: Create TensorFlow datasets\n",
        "# Prepare TensorFlow datasets for training and testing with appropriate batching and shuffling\n",
        "# train_dataset = tf.data.Dataset.from_tensor_slices(train_data).shuffle(BUFFER_SIZE).batch(BATCH_SIZE)\n",
        "# test_dataset = tf.data.Dataset.from_tensor_slices(test_data).batch(BATCH_SIZE)\n",
        "\n",
        "train_dataset = tf.data.Dataset.from_tensor_slices(train_data)\n",
        "test_dataset = tf.data.Dataset.from_tensor_slices(test_data)\n",
        "\n",
        "train_dataset = train_dataset.shuffle(BUFFER_SIZE).batch(BATCH_SIZE).prefetch(tf.data.experimental.AUTOTUNE)\n",
        "test_dataset = test_dataset.batch(BATCH_SIZE).prefetch(tf.data.experimental.AUTOTUNE)"
      ]
    },
    {
      "cell_type": "code",
      "source": [
        "vocab_size"
      ],
      "metadata": {
        "colab": {
          "base_uri": "https://localhost:8080/"
        },
        "id": "9uv-BQ4Q62LA",
        "outputId": "578ecd0e-e0c4-44ab-8d52-a86067d6fb20"
      },
      "execution_count": 11,
      "outputs": [
        {
          "output_type": "execute_result",
          "data": {
            "text/plain": [
              "71141"
            ]
          },
          "metadata": {},
          "execution_count": 11
        }
      ]
    },
    {
      "cell_type": "code",
      "execution_count": 12,
      "metadata": {
        "execution": {
          "iopub.execute_input": "2020-10-10T13:14:05.592072Z",
          "iopub.status.busy": "2020-10-10T13:14:05.591186Z",
          "iopub.status.idle": "2020-10-10T13:14:12.984172Z",
          "shell.execute_reply": "2020-10-10T13:14:12.984873Z"
        },
        "id": "JRHxw7X4zOpg",
        "papermill": {
          "duration": 8.912486,
          "end_time": "2020-10-10T13:14:12.985042",
          "exception": false,
          "start_time": "2020-10-10T13:14:04.072556",
          "status": "completed"
        },
        "tags": [],
        "colab": {
          "base_uri": "https://localhost:8080/"
        },
        "outputId": "9d13ea71-ddc3-43a8-8949-497ae22cd7a0"
      },
      "outputs": [
        {
          "output_type": "stream",
          "name": "stdout",
          "text": [
            "Number of training batches: 26811\n",
            "Number of testing batches: 2979\n"
          ]
        }
      ],
      "source": [
        "# Print the number of batches in the training and testing datasets\n",
        "print(f\"Number of training batches: {len(train_dataset)}\")\n",
        "print(f\"Number of testing batches: {len(test_dataset)}\")"
      ]
    },
    {
      "cell_type": "markdown",
      "metadata": {
        "id": "VUatOx50OXF1",
        "papermill": {
          "duration": 1.350656,
          "end_time": "2020-10-10T13:14:15.692486",
          "exception": false,
          "start_time": "2020-10-10T13:14:14.341830",
          "status": "completed"
        },
        "tags": []
      },
      "source": [
        "### Building the Model\n",
        "\n",
        "Use the model subclassing method to build your model. While Sequential and Functional APIs are generally more suitable for most use cases, model subclassing allows you to create the model in an object-oriented way. Follow these steps:\n",
        "\n",
        "1. Define a custom model class by inheriting from `tf.keras.Model`.\n",
        "2. Implement the `__init__` method to define the layers of your model.\n",
        "3. Override the `call` method to define the forward pass of your model.\n",
        "4. Ensure that the model includes embedding layers, a skip-gram architecture, and any other necessary components for training.\n"
      ]
    },
    {
      "cell_type": "code",
      "execution_count": 14,
      "metadata": {
        "execution": {
          "iopub.execute_input": "2020-10-10T13:14:18.975942Z",
          "iopub.status.busy": "2020-10-10T13:14:18.969008Z",
          "iopub.status.idle": "2020-10-10T13:14:19.276913Z",
          "shell.execute_reply": "2020-10-10T13:14:19.276347Z"
        },
        "id": "6gLxFZ9Eu9Tw",
        "papermill": {
          "duration": 1.935377,
          "end_time": "2020-10-10T13:14:19.277030",
          "exception": false,
          "start_time": "2020-10-10T13:14:17.341653",
          "status": "completed"
        },
        "tags": [],
        "colab": {
          "base_uri": "https://localhost:8080/"
        },
        "outputId": "e0da7aac-f286-41ec-b878-8ab011cafc19"
      },
      "outputs": [
        {
          "output_type": "stream",
          "name": "stderr",
          "text": [
            "/usr/local/lib/python3.10/dist-packages/keras/src/layers/core/embedding.py:90: UserWarning: Argument `input_length` is deprecated. Just remove it.\n",
            "  warnings.warn(\n"
          ]
        }
      ],
      "source": [
        "# Step 1: Create a custom model class by subclassing `tf.keras.Model`\n",
        "# Define a class that inherits from the Keras Model class\n",
        "\n",
        "# Step 2: Initialize the layers in the `__init__` method\n",
        "# Define all the layers such as embedding, dense, or output layers\n",
        "\n",
        "# Step 3: Implement the forward pass in the `call` method\n",
        "# Define how the input data flows through the model to produce the output\n",
        "\n",
        "# Step 4: Ensure the model implements the skip-gram architecture\n",
        "# Include logic for embedding lookups and processing positive and negative samples\n",
        "\n",
        "# Step 5: Verify that the model structure aligns with the objective\n",
        "# Test the forward pass to ensure proper layer connections and outputs\n",
        "\n",
        "class SkipGramModel(tf.keras.Model):\n",
        "    def __init__(self, vocab_size, embedding_dim):\n",
        "        super(SkipGramModel, self).__init__()\n",
        "        self.target_embedding = tf.keras.layers.Embedding(vocab_size, embedding_dim, input_length=1, name=\"target_embedding\")\n",
        "        self.context_embedding = tf.keras.layers.Embedding(vocab_size, embedding_dim, input_length=1, name=\"context_embedding\")\n",
        "        self.dense = tf.keras.layers.Dense(1, activation='sigmoid')\n",
        "\n",
        "    def call(self, pair):\n",
        "        target, context = pair\n",
        "        if len(target.shape) == 2:\n",
        "            target = tf.squeeze(target, axis=1)\n",
        "        if len(context.shape) == 2:\n",
        "            context = tf.squeeze(context, axis=1)\n",
        "        word_emb = self.target_embedding(target)\n",
        "        context_emb = self.context_embedding(context)\n",
        "        dot_product = tf.reduce_sum(tf.multiply(word_emb, context_emb), axis=1)\n",
        "        output = self.dense(tf.expand_dims(dot_product, axis=1))\n",
        "        return output\n",
        "\n",
        "model = SkipGramModel(vocab_size, EMBEDDING_DIM)"
      ]
    },
    {
      "cell_type": "markdown",
      "metadata": {
        "id": "RN3SV3zv0pXG",
        "papermill": {
          "duration": 1.56129,
          "end_time": "2020-10-10T13:14:22.236946",
          "exception": false,
          "start_time": "2020-10-10T13:14:20.675656",
          "status": "completed"
        },
        "tags": []
      },
      "source": [
        "### Loss function, Metrics and Optimizers"
      ]
    },
    {
      "cell_type": "code",
      "execution_count": 15,
      "metadata": {
        "execution": {
          "iopub.execute_input": "2020-10-10T13:14:25.048870Z",
          "iopub.status.busy": "2020-10-10T13:14:25.048241Z",
          "iopub.status.idle": "2020-10-10T13:14:25.068088Z",
          "shell.execute_reply": "2020-10-10T13:14:25.067312Z"
        },
        "id": "ENLrMWOtpixA",
        "papermill": {
          "duration": 1.420264,
          "end_time": "2020-10-10T13:14:25.068193",
          "exception": false,
          "start_time": "2020-10-10T13:14:23.647929",
          "status": "completed"
        },
        "tags": []
      },
      "outputs": [],
      "source": [
        "optimizer = tf.keras.optimizers.Adam()\n",
        "# optimizer = tf.keras.optimizers.Adam(learning_rate=0.0001)\n",
        "# optimizer = tf.keras.optimizers.Adam(learning_rate=0.001)\n",
        "loss_fn = tf.keras.losses.BinaryCrossentropy()\n",
        "train_acc_metric = tf.keras.metrics.BinaryAccuracy()\n",
        "val_acc_metric = tf.keras.metrics.BinaryAccuracy()"
      ]
    },
    {
      "cell_type": "markdown",
      "metadata": {
        "id": "7eyQ_o1EWuJA",
        "papermill": {
          "duration": 1.384257,
          "end_time": "2020-10-10T13:14:27.862984",
          "exception": false,
          "start_time": "2020-10-10T13:14:26.478727",
          "status": "completed"
        },
        "tags": []
      },
      "source": [
        "### Training the Model\n",
        "\n",
        "Implement custom training for learning word embeddings to gain finer control over optimization and training tasks. Follow these steps:\n",
        "\n",
        "1. Define a custom training loop that includes forward propagation, loss computation, and backpropagation.\n",
        "2. Use the optimizer of your choice to update the model's weights based on the computed gradients.\n",
        "3. Implement batching for efficient data processing during training.\n",
        "4. Monitor the loss during each epoch to track the model's performance.\n",
        "5. Save the trained embeddings for later use once the training is complete."
      ]
    },
    {
      "cell_type": "code",
      "execution_count": 16,
      "metadata": {
        "execution": {
          "iopub.execute_input": "2020-10-10T13:14:30.800520Z",
          "iopub.status.busy": "2020-10-10T13:14:30.799563Z",
          "iopub.status.idle": "2020-10-10T13:36:46.204754Z",
          "shell.execute_reply": "2020-10-10T13:36:46.205408Z"
        },
        "id": "oHNb85OL29hu",
        "papermill": {
          "duration": 1336.991023,
          "end_time": "2020-10-10T13:36:46.205587",
          "exception": false,
          "start_time": "2020-10-10T13:14:29.214564",
          "status": "completed"
        },
        "tags": [],
        "colab": {
          "base_uri": "https://localhost:8080/"
        },
        "outputId": "5997b878-ca9a-4641-d83f-5281812507a1"
      },
      "outputs": [
        {
          "output_type": "stream",
          "name": "stdout",
          "text": [
            "Epoch: 1\n",
            "Cummulative Training Loss: 12939.7012,  Training Accuracy: 0.7739\n",
            "Cummulative Val Loss: 1283.1897, Val Accuracy: 0.8088\n",
            "Time taken: 332.190586s\n",
            "---------------------------------------\n",
            "Epoch: 2\n",
            "Cummulative Training Loss: 9630.5654,  Training Accuracy: 0.8435\n",
            "Cummulative Val Loss: 1259.2485, Val Accuracy: 0.8142\n",
            "Time taken: 274.679492s\n",
            "---------------------------------------\n",
            "Epoch: 3\n",
            "Cummulative Training Loss: 7396.1396,  Training Accuracy: 0.8845\n",
            "Cummulative Val Loss: 1392.9343, Val Accuracy: 0.8052\n",
            "Time taken: 273.795422s\n",
            "---------------------------------------\n",
            "Epoch: 4\n",
            "Cummulative Training Loss: 6041.0913,  Training Accuracy: 0.9098\n",
            "Cummulative Val Loss: 1570.7882, Val Accuracy: 0.7973\n",
            "Time taken: 272.512912s\n",
            "---------------------------------------\n",
            "Epoch: 5\n",
            "Cummulative Training Loss: 5170.9248,  Training Accuracy: 0.9257\n",
            "Cummulative Val Loss: 1762.4912, Val Accuracy: 0.7914\n",
            "Time taken: 333.866028s\n",
            "---------------------------------------\n"
          ]
        }
      ],
      "source": [
        "# Step 1: Define the training step\n",
        "# Create a `train_step` function using `tf.GradientTape` to compute predictions, calculate loss, and apply gradients to update model weights\n",
        "\n",
        "# Step 2: Define the testing step\n",
        "# Create a `test_step` function to compute predictions and calculate validation loss without updating the model weights\n",
        "\n",
        "# Step 3: Initialize the training loop\n",
        "# Set up a loop to iterate over epochs and train the model for the defined number of iterations\n",
        "\n",
        "# Step 4: Perform training on each batch\n",
        "# For each batch in the training dataset, call the `train_step` function and accumulate the loss\n",
        "\n",
        "# Step 5: Compute and display training accuracy\n",
        "# Update and reset training accuracy metrics after each epoch and log the results\n",
        "\n",
        "# Step 6: Perform validation on the test dataset\n",
        "# For each batch in the test dataset, call the `test_step` function to calculate validation loss and accuracy\n",
        "\n",
        "# Step 7: Log validation metrics\n",
        "# Compute and log validation accuracy and cumulative test loss for each epoch\n",
        "\n",
        "# Step 8: Track time per epoch\n",
        "# Record and display the time taken to complete each epoch for performance monitoring\n",
        "\n",
        "@tf.function\n",
        "def train_step(inputs):\n",
        "    target, context, label = inputs\n",
        "    with tf.GradientTape() as tape:\n",
        "        predictions = model((target, context))\n",
        "        loss = loss_fn(label, predictions)\n",
        "    gradients = tape.gradient(loss, model.trainable_variables)\n",
        "    optimizer.apply_gradients(zip(gradients, model.trainable_variables))\n",
        "    train_acc_metric.update_state(label, predictions)\n",
        "    return loss\n",
        "\n",
        "@tf.function\n",
        "def test_step(inputs):\n",
        "    target, context, label = inputs\n",
        "    predictions = model((target, context))\n",
        "    loss = loss_fn(label, predictions)\n",
        "    val_acc_metric.update_state(label, predictions)\n",
        "    return loss\n",
        "\n",
        "for epoch in range(EPOCHS):\n",
        "    start_time = time.time()\n",
        "    total_loss = 0\n",
        "    for batch in train_dataset:\n",
        "        batch_loss = train_step(batch)\n",
        "        total_loss += batch_loss\n",
        "    train_acc = train_acc_metric.result()\n",
        "    train_acc_metric.reset_state()\n",
        "\n",
        "    val_loss = 0\n",
        "    for batch in test_dataset:\n",
        "        batch_loss = test_step(batch)\n",
        "        val_loss += batch_loss\n",
        "    val_acc = val_acc_metric.result()\n",
        "    val_acc_metric.reset_state()\n",
        "\n",
        "    # print(f'Epoch: {epoch + 1}\\nTraining Loss: {(total_loss / len(train_dataset)):.4f},  Training Accuracy: {train_acc:.4f}\\nVal Loss: {(val_loss / len(test_dataset)):.4f}, Val Accuracy: {val_acc:.4f}\\nTime taken: {(time.time() - start_time):.6f}s')\n",
        "    print(f'Epoch: {epoch + 1}\\nCummulative Training Loss: {(total_loss):.4f},  Training Accuracy: {train_acc:.4f}\\nCummulative Val Loss: {(val_loss):.4f}, Val Accuracy: {val_acc:.4f}\\nTime taken: {(time.time() - start_time):.6f}s')\n",
        "    print(\"---------------------------------------\")"
      ]
    },
    {
      "cell_type": "code",
      "execution_count": 17,
      "metadata": {
        "execution": {
          "iopub.execute_input": "2020-10-10T13:36:48.935958Z",
          "iopub.status.busy": "2020-10-10T13:36:48.935357Z",
          "iopub.status.idle": "2020-10-10T13:36:48.973240Z",
          "shell.execute_reply": "2020-10-10T13:36:48.972739Z"
        },
        "id": "V2iWMNGQahsc",
        "papermill": {
          "duration": 1.409531,
          "end_time": "2020-10-10T13:36:48.973383",
          "exception": false,
          "start_time": "2020-10-10T13:36:47.563852",
          "status": "completed"
        },
        "tags": []
      },
      "outputs": [],
      "source": [
        "# Save weights to a Tensorflow Checkpoint file\n",
        "model.save_weights('skipgram_weights.weights.h5')"
      ]
    },
    {
      "cell_type": "code",
      "source": [
        "# print Word Embeddings shape\n",
        "print(\"Model Word Embeddings shape: \", model.target_embedding.get_weights()[0].shape)"
      ],
      "metadata": {
        "colab": {
          "base_uri": "https://localhost:8080/"
        },
        "id": "L3-fC1wcDc--",
        "outputId": "702ebc2e-9d40-4a51-9f36-474eef682abe"
      },
      "execution_count": 24,
      "outputs": [
        {
          "output_type": "stream",
          "name": "stdout",
          "text": [
            "Model Word Embeddings shape:  (71141, 128)\n"
          ]
        }
      ]
    },
    {
      "cell_type": "markdown",
      "metadata": {
        "id": "bb7Wx_rzZOOm",
        "papermill": {
          "duration": 1.591393,
          "end_time": "2020-10-10T13:36:51.938622",
          "exception": false,
          "start_time": "2020-10-10T13:36:50.347229",
          "status": "completed"
        },
        "tags": []
      },
      "source": [
        "### Word Embeddings Projector\n",
        "\n",
        "Follow these steps to visualize the learned word embeddings using TensorFlow's Embedding Projector:\n",
        "\n",
        "1. Extract the weights of the embedding layer from your trained model.\n",
        "2. Save the weights into two files:\n",
        "   - `vecs.tsv`: This file will store the actual vector representations of words.\n",
        "   - `meta.tsv`: This file will store the associated metadata (e.g., word labels) for visualization.\n",
        "3. Go to [TensorFlow Embedding Projector](http://projector.tensorflow.org/).\n",
        "4. Upload the `vecs.tsv` and `meta.tsv` files created in the previous step.\n",
        "5. Explore the visualizations provided by TensorFlow's Embedding Projector.\n",
        "<font color=#ffb578>\n",
        "6.Save the visualization of a word that best demonstrate the quality of your embeddings as an image and store it near the notebook.\n",
        "7. Compress the folder into a `.zip` file and submit it as part of your work.\n",
        "\n",
        "</font>\n"
      ]
    },
    {
      "cell_type": "code",
      "execution_count": 27,
      "metadata": {
        "execution": {
          "iopub.execute_input": "2020-10-10T13:36:54.675412Z",
          "iopub.status.busy": "2020-10-10T13:36:54.674309Z",
          "iopub.status.idle": "2020-10-10T13:36:56.018539Z",
          "shell.execute_reply": "2020-10-10T13:36:56.017942Z"
        },
        "id": "fGpXtNRS-V_u",
        "papermill": {
          "duration": 2.703171,
          "end_time": "2020-10-10T13:36:56.018656",
          "exception": false,
          "start_time": "2020-10-10T13:36:53.315485",
          "status": "completed"
        },
        "tags": [],
        "colab": {
          "base_uri": "https://localhost:8080/"
        },
        "outputId": "b8b522f2-fe4a-4e68-eb85-970a5b343ccc"
      },
      "outputs": [
        {
          "output_type": "stream",
          "name": "stdout",
          "text": [
            "Embedding files created.\n"
          ]
        }
      ],
      "source": [
        "# Step 1: Access the embedding layer from the trained model\n",
        "# Retrieve the first layer (embedding layer) from the model\n",
        "embedding_layer = model.target_embedding\n",
        "\n",
        "# Step 2: Extract the weights from the embedding layer\n",
        "# Get the weights (word embeddings) as a NumPy array\n",
        "weights = embedding_layer.get_weights()[0]\n",
        "# Limit number of words to visualize to reduce memory needed and upload and dowload size\n",
        "# words_to_visualize = 5000  # 5k\n",
        "words_to_visualize = 10000  # 10k\n",
        "# words_to_visualize = 12000  # 12k\n",
        "# words_to_visualize = 20000  # 20k\n",
        "# words_to_visualize = vocab_size  # all owrds\n",
        "\n",
        "# Step 3: Open files to store embeddings and metadata\n",
        "# Create two files - 'vecs.tsv' for embeddings and 'meta.tsv' for word metadata\n",
        "with open('vecs.tsv', 'w') as vecs_file, open('meta.tsv', 'w') as meta_file:\n",
        "    # Step 4: Iterate through the tokenizer's vocabulary\n",
        "    # For each word in the vocabulary, write its metadata and embeddings to the files\n",
        "\n",
        "    # for word, idx in tokenizer.word_index.items():\n",
        "    for word, idx in list(tokenizer.word_index.items())[:words_to_visualize]:\n",
        "        meta_file.write(word + '\\n')\n",
        "        vecs_file.write('\\t'.join(map(str, weights[idx])) + '\\n')\n",
        "\n",
        "print(\"Embedding files created.\")"
      ]
    },
    {
      "cell_type": "code",
      "source": [
        "!gzip /content/skipgram_weights.weights.h5"
      ],
      "metadata": {
        "id": "vvXK4fbyfGsm"
      },
      "execution_count": 20,
      "outputs": []
    },
    {
      "cell_type": "code",
      "source": [
        "%ls -l"
      ],
      "metadata": {
        "colab": {
          "base_uri": "https://localhost:8080/"
        },
        "id": "1WDFv6BzfJPj",
        "outputId": "59d2d655-0ef1-4028-b46f-7de3bf52b066"
      },
      "execution_count": 28,
      "outputs": [
        {
          "output_type": "stream",
          "name": "stdout",
          "text": [
            "total 80212\n",
            "-rw-r--r-- 1 root root    80207 Jan  4 16:07 meta.tsv\n",
            "drwxr-xr-x 1 root root     4096 Jan  2 14:19 \u001b[0m\u001b[01;34msample_data\u001b[0m/\n",
            "-rw-r--r-- 1 root root 67604774 Jan  4 16:00 skipgram_weights.weights.h5.gz\n",
            "-rw-r--r-- 1 root root 14437207 Jan  4 16:07 vecs.tsv\n"
          ]
        }
      ]
    },
    {
      "cell_type": "code",
      "source": [],
      "metadata": {
        "id": "qFau2wfCfOsh"
      },
      "execution_count": null,
      "outputs": []
    }
  ],
  "metadata": {
    "kernelspec": {
      "display_name": "Python 3",
      "name": "python3"
    },
    "language_info": {
      "codemirror_mode": {
        "name": "ipython",
        "version": 3
      },
      "file_extension": ".py",
      "mimetype": "text/x-python",
      "name": "python",
      "nbconvert_exporter": "python",
      "pygments_lexer": "ipython3",
      "version": "3.7.6"
    },
    "papermill": {
      "duration": 1467.163823,
      "end_time": "2020-10-10T13:37:04.319726",
      "environment_variables": {},
      "exception": null,
      "input_path": "__notebook__.ipynb",
      "output_path": "__notebook__.ipynb",
      "parameters": {},
      "start_time": "2020-10-10T13:12:37.155903",
      "version": "2.1.0"
    },
    "colab": {
      "provenance": [],
      "gpuType": "T4"
    },
    "accelerator": "GPU"
  },
  "nbformat": 4,
  "nbformat_minor": 0
}